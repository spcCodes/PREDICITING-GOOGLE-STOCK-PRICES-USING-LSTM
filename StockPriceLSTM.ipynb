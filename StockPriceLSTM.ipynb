{
 "cells": [
  {
   "cell_type": "markdown",
   "metadata": {},
   "source": [
    "STOCK PRICE PREDICTION OF GOOGLE USING LSTM\n",
    "======================="
   ]
  },
  {
   "cell_type": "markdown",
   "metadata": {},
   "source": [
    "In this project we will try to predict the stock price of Google using LSTM. Though the future stock price does not depend on the past, but we can observe some trend. We will try to predict the upward and downward trend that exist in Google stocks and this would be done using LSTM (a special case of RNN's). We are going to implement a robust LSTM with stacked layers. We are also going to add drop outs and regularizers to avoid overfitting.\n",
    "\n",
    "\n",
    "We are going to train our LSTM on 5 years of Google stock price starting from 2012 to 2016. After the model is trained we will try to predict the trend for the first month i.e January of year 2017. Here we are not going to exactly predict the stock price but we are going to predict its trend.\n",
    "\n",
    "The data for the training and testing is given here.\n",
    "\n",
    "Lets us have a look at the stock price of Google from year 2012 to last month of 2016. The graph is shown below\n",
    "\n",
    "![Google Stock Price](TrainStockPrices.png)\n",
    "\n",
    "As we can see there is some upward trend in the stock prices although there are some downward trends in between.\n",
    "\n",
    "We will start by loading the necessary packages of python required for our training\n"
   ]
  },
  {
   "cell_type": "code",
   "execution_count": 1,
   "metadata": {
    "collapsed": true
   },
   "outputs": [],
   "source": [
    "# Part 1 - Data Preprocessing\n",
    "\n",
    "# Importing the libraries\n",
    "import numpy as np\n",
    "import matplotlib.pyplot as plt\n",
    "import pandas as pd"
   ]
  },
  {
   "cell_type": "markdown",
   "metadata": {},
   "source": [
    "The dataset is loaded and the training set is being extracted from the dataset.\n"
   ]
  },
  {
   "cell_type": "code",
   "execution_count": 2,
   "metadata": {
    "collapsed": true
   },
   "outputs": [],
   "source": [
    "# Importing the training set\n",
    "dataset_train = pd.read_csv('Google_Stock_Price_Train.csv')\n",
    "training_set = dataset_train.iloc[:, 1:2].values"
   ]
  },
  {
   "cell_type": "markdown",
   "metadata": {},
   "source": [
    "There are two ways of Feature Scaling , one is data standardisation and the other is data normalisation. \n",
    "![Feature Scaling](fs.png)\n",
    "It's a better choice to go for normalisation for our stock prices data."
   ]
  },
  {
   "cell_type": "code",
   "execution_count": 3,
   "metadata": {
    "collapsed": true
   },
   "outputs": [],
   "source": [
    "# Feature Scaling\n",
    "from sklearn.preprocessing import MinMaxScaler\n",
    "sc = MinMaxScaler(feature_range = (0, 1))\n",
    "training_set_scaled = sc.fit_transform(training_set)"
   ]
  },
  {
   "cell_type": "markdown",
   "metadata": {},
   "source": [
    "Now we will take previous 60 time steps of training_set_scaled and put in X_train and 1 output which would be next value of the time step taken for training."
   ]
  },
  {
   "cell_type": "code",
   "execution_count": 4,
   "metadata": {
    "collapsed": true
   },
   "outputs": [],
   "source": [
    "# Creating a data structure with 60 timesteps and 1 output\n",
    "X_train = []\n",
    "y_train = []\n",
    "for i in range(60, 1258):\n",
    "    X_train.append(training_set_scaled[i-60:i, 0])\n",
    "    y_train.append(training_set_scaled[i, 0])\n",
    "X_train, y_train = np.array(X_train), np.array(y_train)\n"
   ]
  },
  {
   "cell_type": "markdown",
   "metadata": {},
   "source": [
    "The data is reshaped into 3d tensor as the LSTM/RNN requires the input to be of that shape. "
   ]
  },
  {
   "cell_type": "code",
   "execution_count": 5,
   "metadata": {
    "collapsed": true
   },
   "outputs": [],
   "source": [
    "# Reshaping\n",
    "X_train = np.reshape(X_train, (X_train.shape[0], X_train.shape[1], 1))\n"
   ]
  },
  {
   "cell_type": "markdown",
   "metadata": {},
   "source": [
    "We are ready to build up a RNN/LSTM model"
   ]
  },
  {
   "cell_type": "markdown",
   "metadata": {},
   "source": [
    "Let us import the necessary packages of keras "
   ]
  },
  {
   "cell_type": "code",
   "execution_count": 6,
   "metadata": {},
   "outputs": [
    {
     "name": "stderr",
     "output_type": "stream",
     "text": [
      "Using Theano backend.\n"
     ]
    }
   ],
   "source": [
    "# Importing the Keras libraries and packages\n",
    "from keras.models import Sequential\n",
    "from keras.layers import Dense\n",
    "from keras.layers import LSTM\n",
    "from keras.layers import Dropout"
   ]
  },
  {
   "cell_type": "markdown",
   "metadata": {},
   "source": [
    "Let us initialise the sequential model.Since it is a continuous output problem we would rather go for regression rather than classification"
   ]
  },
  {
   "cell_type": "code",
   "execution_count": 7,
   "metadata": {
    "collapsed": true
   },
   "outputs": [],
   "source": [
    "# Initialising the RNN\n",
    "regressor = Sequential()"
   ]
  },
  {
   "cell_type": "markdown",
   "metadata": {},
   "source": [
    "We will now build up a LSTM model by adding up layers followed by dropout. The model is given below\n"
   ]
  },
  {
   "cell_type": "code",
   "execution_count": 8,
   "metadata": {},
   "outputs": [],
   "source": [
    "# Adding the first LSTM layer and some Dropout regularisation\n",
    "regressor.add(LSTM(units = 50, return_sequences = True, input_shape = (X_train.shape[1], 1)))\n",
    "regressor.add(Dropout(0.2))\n",
    "\n",
    "# Adding a second LSTM layer and some Dropout regularisation\n",
    "regressor.add(LSTM(units = 50, return_sequences = True))\n",
    "regressor.add(Dropout(0.2))\n",
    "\n",
    "# Adding a third LSTM layer and some Dropout regularisation\n",
    "regressor.add(LSTM(units = 50, return_sequences = True))\n",
    "regressor.add(Dropout(0.2))\n",
    "\n",
    "# Adding a fourth LSTM layer and some Dropout regularisation\n",
    "regressor.add(LSTM(units = 50))\n",
    "regressor.add(Dropout(0.2))\n"
   ]
  },
  {
   "cell_type": "markdown",
   "metadata": {},
   "source": [
    "We will add the final layer which is the dense layer of LSTM . The number of units in this case will be 1 as we have just one output to predict"
   ]
  },
  {
   "cell_type": "code",
   "execution_count": 9,
   "metadata": {
    "collapsed": true
   },
   "outputs": [],
   "source": [
    "# Adding the output layer\n",
    "regressor.add(Dense(units = 1))"
   ]
  },
  {
   "cell_type": "markdown",
   "metadata": {},
   "source": [
    "We will finally compile and fit the dataset accordingly. We will use 'adam' optimiser as our preferred optimiser and loss as 'mean square error'"
   ]
  },
  {
   "cell_type": "code",
   "execution_count": 10,
   "metadata": {},
   "outputs": [
    {
     "name": "stdout",
     "output_type": "stream",
     "text": [
      "Epoch 1/100\n",
      "1198/1198 [==============================] - 4s - loss: 0.0528     \n",
      "Epoch 2/100\n",
      "1198/1198 [==============================] - 4s - loss: 0.0061     \n",
      "Epoch 3/100\n",
      "1198/1198 [==============================] - 4s - loss: 0.0048     \n",
      "Epoch 4/100\n",
      "1198/1198 [==============================] - 4s - loss: 0.0051     \n",
      "Epoch 5/100\n",
      "1198/1198 [==============================] - 4s - loss: 0.0050     \n",
      "Epoch 6/100\n",
      "1198/1198 [==============================] - 4s - loss: 0.0051     \n",
      "Epoch 7/100\n",
      "1198/1198 [==============================] - 4s - loss: 0.0045     \n",
      "Epoch 8/100\n",
      "1198/1198 [==============================] - 4s - loss: 0.0044     \n",
      "Epoch 9/100\n",
      "1198/1198 [==============================] - 4s - loss: 0.0046     \n",
      "Epoch 10/100\n",
      "1198/1198 [==============================] - 4s - loss: 0.0044     \n",
      "Epoch 11/100\n",
      "1198/1198 [==============================] - 4s - loss: 0.0044     \n",
      "Epoch 12/100\n",
      "1198/1198 [==============================] - 4s - loss: 0.0037     \n",
      "Epoch 13/100\n",
      "1198/1198 [==============================] - 4s - loss: 0.0039     \n",
      "Epoch 14/100\n",
      "1198/1198 [==============================] - 4s - loss: 0.0043     \n",
      "Epoch 15/100\n",
      "1198/1198 [==============================] - 4s - loss: 0.0041     \n",
      "Epoch 16/100\n",
      "1198/1198 [==============================] - 4s - loss: 0.0045     \n",
      "Epoch 17/100\n",
      "1198/1198 [==============================] - 4s - loss: 0.0039     \n",
      "Epoch 18/100\n",
      "1198/1198 [==============================] - 4s - loss: 0.0034     \n",
      "Epoch 19/100\n",
      "1198/1198 [==============================] - 4s - loss: 0.0034     \n",
      "Epoch 20/100\n",
      "1198/1198 [==============================] - 4s - loss: 0.0034     \n",
      "Epoch 21/100\n",
      "1198/1198 [==============================] - 4s - loss: 0.0031     \n",
      "Epoch 22/100\n",
      "1198/1198 [==============================] - 4s - loss: 0.0031     \n",
      "Epoch 23/100\n",
      "1198/1198 [==============================] - 4s - loss: 0.0033     \n",
      "Epoch 24/100\n",
      "1198/1198 [==============================] - 4s - loss: 0.0037     \n",
      "Epoch 25/100\n",
      "1198/1198 [==============================] - 4s - loss: 0.0032     \n",
      "Epoch 26/100\n",
      "1198/1198 [==============================] - 4s - loss: 0.0035     \n",
      "Epoch 27/100\n",
      "1198/1198 [==============================] - 4s - loss: 0.0031     \n",
      "Epoch 28/100\n",
      "1198/1198 [==============================] - 4s - loss: 0.0031     \n",
      "Epoch 29/100\n",
      "1198/1198 [==============================] - 4s - loss: 0.0031     \n",
      "Epoch 30/100\n",
      "1198/1198 [==============================] - 4s - loss: 0.0026     \n",
      "Epoch 31/100\n",
      "1198/1198 [==============================] - 4s - loss: 0.0031     \n",
      "Epoch 32/100\n",
      "1198/1198 [==============================] - 4s - loss: 0.0030     \n",
      "Epoch 33/100\n",
      "1198/1198 [==============================] - 4s - loss: 0.0027     \n",
      "Epoch 34/100\n",
      "1198/1198 [==============================] - 4s - loss: 0.0028     \n",
      "Epoch 35/100\n",
      "1198/1198 [==============================] - 4s - loss: 0.0027     \n",
      "Epoch 36/100\n",
      "1198/1198 [==============================] - 4s - loss: 0.0031     \n",
      "Epoch 37/100\n",
      "1198/1198 [==============================] - 4s - loss: 0.0029     \n",
      "Epoch 38/100\n",
      "1198/1198 [==============================] - 4s - loss: 0.0029     \n",
      "Epoch 39/100\n",
      "1198/1198 [==============================] - 4s - loss: 0.0027     \n",
      "Epoch 40/100\n",
      "1198/1198 [==============================] - 4s - loss: 0.0028     \n",
      "Epoch 41/100\n",
      "1198/1198 [==============================] - 4s - loss: 0.0027     \n",
      "Epoch 42/100\n",
      "1198/1198 [==============================] - 4s - loss: 0.0027     \n",
      "Epoch 43/100\n",
      "1198/1198 [==============================] - 5s - loss: 0.0026     \n",
      "Epoch 44/100\n",
      "1198/1198 [==============================] - 5s - loss: 0.0026     \n",
      "Epoch 45/100\n",
      "1198/1198 [==============================] - 5s - loss: 0.0027     \n",
      "Epoch 46/100\n",
      "1198/1198 [==============================] - 5s - loss: 0.0025     \n",
      "Epoch 47/100\n",
      "1198/1198 [==============================] - 5s - loss: 0.0024     \n",
      "Epoch 48/100\n",
      "1198/1198 [==============================] - 5s - loss: 0.0025     \n",
      "Epoch 49/100\n",
      "1198/1198 [==============================] - 4s - loss: 0.0021     \n",
      "Epoch 50/100\n",
      "1198/1198 [==============================] - 4s - loss: 0.0022     \n",
      "Epoch 51/100\n",
      "1198/1198 [==============================] - 4s - loss: 0.0025     \n",
      "Epoch 52/100\n",
      "1198/1198 [==============================] - 4s - loss: 0.0021     \n",
      "Epoch 53/100\n",
      "1198/1198 [==============================] - 4s - loss: 0.0023     \n",
      "Epoch 54/100\n",
      "1198/1198 [==============================] - 4s - loss: 0.0022     \n",
      "Epoch 55/100\n",
      "1198/1198 [==============================] - 4s - loss: 0.0023     \n",
      "Epoch 56/100\n",
      "1198/1198 [==============================] - 4s - loss: 0.0020     \n",
      "Epoch 57/100\n",
      "1198/1198 [==============================] - 4s - loss: 0.0022     \n",
      "Epoch 58/100\n",
      "1198/1198 [==============================] - 4s - loss: 0.0023     \n",
      "Epoch 59/100\n",
      "1198/1198 [==============================] - 5s - loss: 0.0021     \n",
      "Epoch 60/100\n",
      "1198/1198 [==============================] - 5s - loss: 0.0022     \n",
      "Epoch 61/100\n",
      "1198/1198 [==============================] - 4s - loss: 0.0020     \n",
      "Epoch 62/100\n",
      "1198/1198 [==============================] - 4s - loss: 0.0019     \n",
      "Epoch 63/100\n",
      "1198/1198 [==============================] - 4s - loss: 0.0019     \n",
      "Epoch 64/100\n",
      "1198/1198 [==============================] - 4s - loss: 0.0018     \n",
      "Epoch 65/100\n",
      "1198/1198 [==============================] - 4s - loss: 0.0019     \n",
      "Epoch 66/100\n",
      "1198/1198 [==============================] - 4s - loss: 0.0023     \n",
      "Epoch 67/100\n",
      "1198/1198 [==============================] - 4s - loss: 0.0020     \n",
      "Epoch 68/100\n",
      "1198/1198 [==============================] - 4s - loss: 0.0023     \n",
      "Epoch 69/100\n",
      "1198/1198 [==============================] - 4s - loss: 0.0021     \n",
      "Epoch 70/100\n",
      "1198/1198 [==============================] - 4s - loss: 0.0017     \n",
      "Epoch 71/100\n",
      "1198/1198 [==============================] - 4s - loss: 0.0020     \n",
      "Epoch 72/100\n",
      "1198/1198 [==============================] - 6s - loss: 0.0017     \n",
      "Epoch 73/100\n",
      "1198/1198 [==============================] - 4s - loss: 0.0017     \n",
      "Epoch 74/100\n",
      "1198/1198 [==============================] - 4s - loss: 0.0017     \n",
      "Epoch 75/100\n",
      "1198/1198 [==============================] - 4s - loss: 0.0018     \n",
      "Epoch 76/100\n",
      "1198/1198 [==============================] - 4s - loss: 0.0017     \n",
      "Epoch 77/100\n",
      "1198/1198 [==============================] - 4s - loss: 0.0018     \n",
      "Epoch 78/100\n",
      "1198/1198 [==============================] - 4s - loss: 0.0016     \n",
      "Epoch 79/100\n",
      "1198/1198 [==============================] - 4s - loss: 0.0016     \n",
      "Epoch 80/100\n",
      "1198/1198 [==============================] - 4s - loss: 0.0018     \n",
      "Epoch 81/100\n",
      "1198/1198 [==============================] - 4s - loss: 0.0015     \n",
      "Epoch 82/100\n",
      "1198/1198 [==============================] - 4s - loss: 0.0017     \n",
      "Epoch 83/100\n",
      "1198/1198 [==============================] - 4s - loss: 0.0015     \n",
      "Epoch 84/100\n",
      "1198/1198 [==============================] - 4s - loss: 0.0016     \n",
      "Epoch 85/100\n",
      "1198/1198 [==============================] - 4s - loss: 0.0015     \n",
      "Epoch 86/100\n",
      "1198/1198 [==============================] - 4s - loss: 0.0016     \n",
      "Epoch 87/100\n",
      "1198/1198 [==============================] - 4s - loss: 0.0016     \n",
      "Epoch 88/100\n",
      "1198/1198 [==============================] - 4s - loss: 0.0016     \n",
      "Epoch 89/100\n",
      "1198/1198 [==============================] - 4s - loss: 0.0015     \n",
      "Epoch 90/100\n",
      "1198/1198 [==============================] - 4s - loss: 0.0016     \n",
      "Epoch 91/100\n",
      "1198/1198 [==============================] - 5s - loss: 0.0015     \n",
      "Epoch 92/100\n",
      "1198/1198 [==============================] - 4s - loss: 0.0015     \n",
      "Epoch 93/100\n",
      "1198/1198 [==============================] - 4s - loss: 0.0014     \n",
      "Epoch 94/100\n",
      "1198/1198 [==============================] - 4s - loss: 0.0021     \n",
      "Epoch 95/100\n",
      "1198/1198 [==============================] - 4s - loss: 0.0014     \n",
      "Epoch 96/100\n",
      "1198/1198 [==============================] - 3s - loss: 0.0014     \n",
      "Epoch 97/100\n",
      "1198/1198 [==============================] - 3s - loss: 0.0014     \n",
      "Epoch 98/100\n",
      "1198/1198 [==============================] - 3s - loss: 0.0014     \n",
      "Epoch 99/100\n",
      "1198/1198 [==============================] - 3s - loss: 0.0014     \n",
      "Epoch 100/100\n",
      "1198/1198 [==============================] - 3s - loss: 0.0014     \n"
     ]
    },
    {
     "data": {
      "text/plain": [
       "<keras.callbacks.History at 0x7f4cab6540f0>"
      ]
     },
     "execution_count": 10,
     "metadata": {},
     "output_type": "execute_result"
    }
   ],
   "source": [
    "# Compiling the RNN\n",
    "regressor.compile(optimizer = 'adam', loss = 'mean_squared_error')\n",
    "\n",
    "# Fitting the RNN to the Training set\n",
    "regressor.fit(X_train, y_train, epochs = 100, batch_size = 32)"
   ]
  },
  {
   "cell_type": "markdown",
   "metadata": {},
   "source": [
    "After the model is trained , we will try to make the predictions on the test data set and visualise the results. But since the test dataset contains only 20 values and in order to fit into the model for predictions we need the previous 60 time stamps values. Thus we concatenate training_set and testing_set and then try to predict accordingly.We need to have the right format for the input.\n"
   ]
  },
  {
   "cell_type": "code",
   "execution_count": 11,
   "metadata": {
    "collapsed": true
   },
   "outputs": [],
   "source": [
    "# Part 3 - Making the predictions and visualising the results\n",
    "\n",
    "# Getting the real stock price of 2017\n",
    "dataset_test = pd.read_csv('Google_Stock_Price_Test.csv')\n",
    "real_stock_price = dataset_test.iloc[:, 1:2].values\n",
    "\n",
    "# Getting the predicted stock price of 2017\n",
    "dataset_total = pd.concat((dataset_train['Open'], dataset_test['Open']), axis = 0)\n",
    "inputs = dataset_total[len(dataset_total) - len(dataset_test) - 60:].values\n",
    "inputs = inputs.reshape(-1,1)\n",
    "inputs = sc.transform(inputs)\n",
    "X_test = []\n",
    "for i in range(60, 80):\n",
    "    X_test.append(inputs[i-60:i, 0])\n",
    "X_test = np.array(X_test)\n",
    "X_test = np.reshape(X_test, (X_test.shape[0], X_test.shape[1], 1))\n",
    "predicted_stock_price = regressor.predict(X_test)\n",
    "predicted_stock_price = sc.inverse_transform(predicted_stock_price)"
   ]
  },
  {
   "cell_type": "markdown",
   "metadata": {},
   "source": [
    "It's time to visualise the results and check the robustness of the model."
   ]
  },
  {
   "cell_type": "code",
   "execution_count": 16,
   "metadata": {},
   "outputs": [
    {
     "data": {
      "image/png": "[encoded data removed]",
      "text/plain": [
       "<matplotlib.figure.Figure at 0x7f4ca1651208>"
      ]
     },
     "metadata": {},
     "output_type": "display_data"
    }
   ],
   "source": [
    "plt.plot(real_stock_price, color = 'red', label = 'Real Google Stock Price')\n",
    "plt.plot(predicted_stock_price, color = 'blue', label = 'Predicted Google Stock Price')\n",
    "plt.title('Google Stock Price Prediction')\n",
    "plt.xlabel('Time')\n",
    "plt.ylabel('Google Stock Price')\n",
    "plt.show()"
   ]
  },
  {
   "cell_type": "markdown",
   "metadata": {},
   "source": [
    "Observations:\n",
    "\n",
    "1. Our model performs well and follows the trend overall \n",
    "2. The model cannot identify fast non linear changes in the stock prices.\n",
    "3. The RNN/LSTM model reacts well to smooth changes"
   ]
  },
  {
   "cell_type": "markdown",
   "metadata": {},
   "source": [
    "For our specific Stock Price Prediction problem, evaluating the model with the RMSE does not make much sense, since we are more interested in the directions taken by our predictions, rather than the closeness of their values to the real stock price. We want to check if our predictions follow the same directions as the real stock price and we don’t really care whether our predictions are close the real stock price. The predictions could indeed be close but often taking the opposite direction from the real stock price."
   ]
  },
  {
   "cell_type": "code",
   "execution_count": 17,
   "metadata": {
    "collapsed": true
   },
   "outputs": [],
   "source": [
    "import math\n",
    "from sklearn.metrics import mean_squared_error\n",
    "rmse = math.sqrt(mean_squared_error(real_stock_price, predicted_stock_price))"
   ]
  },
  {
   "cell_type": "markdown",
   "metadata": {},
   "source": [
    "We then divide rmse by the range of Google Stock Prices which is around 800 to get a relative error, as opposed to an absolute error. It is more relevant since for example if you get an RMSE of 50, then this error would be very big if the stock price values ranged around 100, but it would be very small if the stock price values ranged around 10000.\n"
   ]
  },
  {
   "cell_type": "markdown",
   "metadata": {},
   "source": [
    "IMPROVING THE RNN/LSTM MODEL\n",
    "================\n",
    "\n",
    "Here are different ways to improve the RNN model:\n",
    "\n",
    "1. Getting more training data: we trained our model on the past 5 years of the Google Stock Price but it would be even better to train it on the past 10 years.\n",
    "2. Increasing the number of timesteps: the model remembered the stock prices from the 60 previous financial days to predict the stock price of the next day. That’s because we chose a number of 60 timesteps (3 months). You could try to increase the number of timesteps, by choosing for example 120 timesteps (6 months).\n",
    "3. Adding some other indicators: if you have the financial instinct that the stock price of some other companies might be correlated to the one of Google, you could add this other stock price as a new indicator in the training data.\n",
    "4. Adding more LSTM layers: we built a RNN with four LSTM layers but you could try with even more.\n",
    "5. Adding more neurones in the LSTM layers: we highlighted the fact that we needed a high number of neurones in the LSTM layers to respond better to the complexity of the problem and we chose to include 50 neurones in each of our 4 LSTM layers. We could try an architecture with even more neurones in each of the 4 (or more) LSTM layers."
   ]
  },
  {
   "cell_type": "code",
   "execution_count": null,
   "metadata": {
    "collapsed": true
   },
   "outputs": [],
   "source": []
  }
 ],
 "metadata": {
  "kernelspec": {
   "display_name": "Python 3",
   "language": "python",
   "name": "python3"
  },
  "language_info": {
   "codemirror_mode": {
    "name": "ipython",
    "version": 3
   },
   "file_extension": ".py",
   "mimetype": "text/x-python",
   "name": "python",
   "nbconvert_exporter": "python",
   "pygments_lexer": "ipython3",
   "version": "3.6.2"
  }
 },
 "nbformat": 4,
 "nbformat_minor": 2
}
